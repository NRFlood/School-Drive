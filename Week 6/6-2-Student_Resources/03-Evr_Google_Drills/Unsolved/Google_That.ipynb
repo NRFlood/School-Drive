{
 "cells": [
  {
   "cell_type": "code",
   "execution_count": 2,
   "metadata": {},
   "outputs": [],
   "source": [
    "# Create code to answer each of the following questions.\n",
    "# Hint: You will need multiple target URLs and multiple API requests.\n",
    "\n",
    "# Dependencies\n",
    "import requests\n",
    "import json\n",
    "\n",
    "# Retrieve Google API key from config.py\n",
    "from config import gkey "
   ]
  },
  {
   "cell_type": "code",
   "execution_count": 12,
   "metadata": {},
   "outputs": [
    {
     "data": {
      "text/plain": [
       "{'results': [{'address_components': [{'long_name': 'Seattle',\n",
       "     'short_name': 'Seattle',\n",
       "     'types': ['locality', 'political']},\n",
       "    {'long_name': 'King County',\n",
       "     'short_name': 'King County',\n",
       "     'types': ['administrative_area_level_2', 'political']},\n",
       "    {'long_name': 'Washington',\n",
       "     'short_name': 'WA',\n",
       "     'types': ['administrative_area_level_1', 'political']},\n",
       "    {'long_name': 'United States',\n",
       "     'short_name': 'US',\n",
       "     'types': ['country', 'political']}],\n",
       "   'formatted_address': 'Seattle, WA, USA',\n",
       "   'geometry': {'bounds': {'northeast': {'lat': 47.734145,\n",
       "      'lng': -122.2244331},\n",
       "     'southwest': {'lat': 47.4919119, 'lng': -122.4596959}},\n",
       "    'location': {'lat': 47.6062095, 'lng': -122.3320708},\n",
       "    'location_type': 'APPROXIMATE',\n",
       "    'viewport': {'northeast': {'lat': 47.734145, 'lng': -122.2244331},\n",
       "     'southwest': {'lat': 47.4919119, 'lng': -122.4596959}}},\n",
       "   'place_id': 'ChIJVTPokywQkFQRmtVEaUZlJRA',\n",
       "   'types': ['locality', 'political']}],\n",
       " 'status': 'OK'}"
      ]
     },
     "execution_count": 12,
     "metadata": {},
     "output_type": "execute_result"
    }
   ],
   "source": [
    "# 1. What are the geocoordinates (latitude/longitude) of Seattle, Washington?\n",
    "base_url = 'https://maps.googleapis.com/maps/api/geocode/json'\n",
    "auth_key = 'gkey'\n",
    "parameters = {'address':'Seattle, Washington',\n",
    "             'key': gkey}\n",
    "response = requests.get(base_url, parameters)\n",
    "response.json()\n",
    "json.dumpsresponse)"
   ]
  },
  {
   "cell_type": "code",
   "execution_count": null,
   "metadata": {
    "collapsed": true
   },
   "outputs": [],
   "source": [
    "# 2. What are the geocoordinates (latitude/longitude) of The White House?"
   ]
  },
  {
   "cell_type": "code",
   "execution_count": null,
   "metadata": {
    "collapsed": true
   },
   "outputs": [],
   "source": [
    "# 3. Find the name and address of a bike store in Seattle, Washington.\n",
    "#    Hint: See https://developers.google.com/places/web-service/supported_types"
   ]
  },
  {
   "cell_type": "code",
   "execution_count": null,
   "metadata": {
    "collapsed": true
   },
   "outputs": [],
   "source": [
    "# 4. Find a balloon store near the White House."
   ]
  },
  {
   "cell_type": "code",
   "execution_count": null,
   "metadata": {
    "collapsed": true
   },
   "outputs": [],
   "source": [
    "# 5. Find the nearest dentist to your house.\n",
    "#    Hint: Use Google Maps to find your latitude and Google Places to find the\n",
    "#    dentist. You will also need the rankby property."
   ]
  }
 ],
 "metadata": {
  "kernelspec": {
   "display_name": "Python 3 (ipykernel)",
   "language": "python",
   "name": "python3"
  },
  "language_info": {
   "codemirror_mode": {
    "name": "ipython",
    "version": 3
   },
   "file_extension": ".py",
   "mimetype": "text/x-python",
   "name": "python",
   "nbconvert_exporter": "python",
   "pygments_lexer": "ipython3",
   "version": "3.9.7"
  }
 },
 "nbformat": 4,
 "nbformat_minor": 2
}
