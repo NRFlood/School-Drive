{
 "cells": [
  {
   "cell_type": "code",
   "execution_count": 10,
   "metadata": {},
   "outputs": [],
   "source": [
    "# Dependencies\n",
    "import requests\n",
    "from config import api_key"
   ]
  },
  {
   "cell_type": "code",
   "execution_count": 13,
   "metadata": {},
   "outputs": [
    {
     "name": "stdout",
     "output_type": "stream",
     "text": [
      "https://api.openweathermap.org/data/2.5/weather?q=Bujumbura&appid=47791be1e8e28c36edc448c5489921fb&units=metric\n"
     ]
    }
   ],
   "source": [
    "# Build query URL and request your results in Celsius\n",
    "base_url = 'https://api.openweathermap.org/data/2.5/weather?'\n",
    "city = 'Bujumbura'\n",
    "units = 'metric'\n",
    "\n",
    "#url = f'{base_url}q={city}&appid={api_key}'\n",
    "url = base_url + 'q=' + city + '&appid=' + api_key + '&units=' + units\n",
    "\n",
    "response = requests.get(url)\n",
    "# Get weather data\n",
    "weather_json = response.json()\n",
    "print(url)"
   ]
  },
  {
   "cell_type": "code",
   "execution_count": 14,
   "metadata": {},
   "outputs": [
    {
     "name": "stdout",
     "output_type": "stream",
     "text": [
      "{'coord': {'lon': 29.3644, 'lat': -3.3822}, 'weather': [{'id': 804, 'main': 'Clouds', 'description': 'overcast clouds', 'icon': '04n'}], 'base': 'stations', 'main': {'temp': 21.4, 'feels_like': 21.84, 'temp_min': 21.4, 'temp_max': 21.4, 'pressure': 1013, 'humidity': 86, 'sea_level': 1013, 'grnd_level': 924}, 'visibility': 10000, 'wind': {'speed': 0.5, 'deg': 5, 'gust': 1.46}, 'clouds': {'all': 99}, 'dt': 1650583284, 'sys': {'country': 'BI', 'sunrise': 1650600025, 'sunset': 1650643283}, 'timezone': 7200, 'id': 425378, 'name': 'Bujumbura', 'cod': 200}\n"
     ]
    }
   ],
   "source": [
    "import json\n",
    "\n",
    "print(weather_json)"
   ]
  },
  {
   "cell_type": "code",
   "execution_count": 15,
   "metadata": {},
   "outputs": [
    {
     "data": {
      "text/plain": [
       "21.4"
      ]
     },
     "execution_count": 15,
     "metadata": {},
     "output_type": "execute_result"
    }
   ],
   "source": [
    "# Get temperature from JSON response\n",
    "temp_c = weather_json['main']['temp']\n",
    "temp_c"
   ]
  },
  {
   "cell_type": "code",
   "execution_count": 17,
   "metadata": {},
   "outputs": [
    {
     "name": "stdout",
     "output_type": "stream",
     "text": [
      "The temp in Bujumbura is 21.4 C.\n"
     ]
    }
   ],
   "source": [
    "# Report temperature\n",
    "print(f'The temp in {city} is {temp_c} C.')"
   ]
  },
  {
   "cell_type": "code",
   "execution_count": null,
   "metadata": {},
   "outputs": [],
   "source": [
    "# Iterate through and get temp for both C and F\n",
    "for each_unit in ['metr']\n",
    "\n",
    "base_url = 'https://api.openweathermap.org/data/2.5/weather?'\n",
    "city = 'Bujumbura'\n",
    "units = 'metric'\n",
    "\n",
    "#url = f'{base_url}q={city}&appid={api_key}'\n",
    "url = base_url + 'q=' + city + '&appid=' + api_key + '&units=' + units\n",
    "\n",
    "response = requests.get(url)\n",
    "# Get weather data\n",
    "weather_json = response.json()\n",
    "print(url)"
   ]
  }
 ],
 "metadata": {
  "kernelspec": {
   "display_name": "Python 3 (ipykernel)",
   "language": "python",
   "name": "python3"
  },
  "language_info": {
   "codemirror_mode": {
    "name": "ipython",
    "version": 3
   },
   "file_extension": ".py",
   "mimetype": "text/x-python",
   "name": "python",
   "nbconvert_exporter": "python",
   "pygments_lexer": "ipython3",
   "version": "3.9.7"
  },
  "varInspector": {
   "cols": {
    "lenName": 16,
    "lenType": 16,
    "lenVar": 40
   },
   "kernels_config": {
    "python": {
     "delete_cmd_postfix": "",
     "delete_cmd_prefix": "del ",
     "library": "var_list.py",
     "varRefreshCmd": "print(var_dic_list())"
    },
    "r": {
     "delete_cmd_postfix": ") ",
     "delete_cmd_prefix": "rm(",
     "library": "var_list.r",
     "varRefreshCmd": "cat(var_dic_list()) "
    }
   },
   "types_to_exclude": [
    "module",
    "function",
    "builtin_function_or_method",
    "instance",
    "_Feature"
   ],
   "window_display": false
  }
 },
 "nbformat": 4,
 "nbformat_minor": 2
}
